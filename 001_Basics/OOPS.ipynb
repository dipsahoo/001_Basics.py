{
 "cells": [
  {
   "cell_type": "code",
   "execution_count": null,
   "id": "131e572b-b728-46e6-b009-cc59d9c1a3f0",
   "metadata": {},
   "outputs": [],
   "source": [
    "class person: \n",
    "    name =  \"Dip\"\n",
    "    year = 3\n",
    "    sem = 6\n",
    "a = person()\n",
    "print (a.name, a.year)"
   ]
  },
  {
   "cell_type": "markdown",
   "id": "2c6708e4-9a4e-4be1-9345-f21214ac1d0d",
   "metadata": {},
   "source": [
    "'self' parameter is a reference to the current instance of the class, and its used to access variables that belongs to that class. "
   ]
  },
  {
   "cell_type": "code",
   "execution_count": null,
   "id": "07538745-0dcf-4b83-8db6-f3fb1915da56",
   "metadata": {},
   "outputs": [],
   "source": [
    "class person: \n",
    "    name =  \"Dip\"\n",
    "    year = 3\n",
    "    sem = 6\n",
    "    def info(self):\n",
    "        print (f\"{self.name} is a {self.year} year student\")\n",
    "a = person()\n",
    "b = person()\n",
    "b.name = \"Shree\"\n",
    "b.year = 1\n",
    "a.info()\n",
    "b.info()"
   ]
  },
  {
   "cell_type": "code",
   "execution_count": null,
   "id": "df71d1fc-58c2-4527-8252-7c3dd8327ab4",
   "metadata": {},
   "outputs": [],
   "source": [
    "class person: \n",
    "    def __init__(self, n, y):\n",
    "        print (\"hi\")\n",
    "        self.name = n\n",
    "        self.year = y\n",
    "    def info(self):\n",
    "        print (f\"{self.name} is a student of {self.year} year\")\n",
    "a = person(\"Dip\", 3) \n",
    "b = person(\"Shree\", 1)\n",
    "a.info()\n",
    "b.info()\n"
   ]
  },
  {
   "cell_type": "code",
   "execution_count": null,
   "id": "c22409fe-74a1-4906-9f4c-f96c605c86dd",
   "metadata": {},
   "outputs": [],
   "source": [
    "def greet (fx):\n",
    "    def mfx(*args,**kwargs):\n",
    "        print(\"Good morning\")\n",
    "        fx(*args,**kwargs)\n",
    "        print (\"Thanks \")\n",
    "    return mfx\n",
    "@greet\n",
    "def add(a, b):\n",
    "    print ( a + b)\n",
    "    \n",
    "add(1,2)\n"
   ]
  },
  {
   "cell_type": "code",
   "execution_count": null,
   "id": "2c3ab81a-01be-4258-80cb-3d2720d9f925",
   "metadata": {},
   "outputs": [],
   "source": [
    "class Emp:\n",
    "    def __init__(self , name , id):\n",
    "        self.name = name\n",
    "        self.id = id\n",
    "    def showDetails(self):\n",
    "      print (f\"Then name of employee {self.name} and id is {self.id}\")\n",
    "\n",
    "class jobProfile (Emp):\n",
    "    def showJP(self):\n",
    "        print (\"Bekar\")\n",
    "e1 = jobProfile(\"Dip\",77)\n",
    "e2 = Emp(\"Shree\",235)\n",
    "e1.showDetails()\n",
    "e1.showJP()\n",
    "e2.showDetails()\n"
   ]
  },
  {
   "cell_type": "markdown",
   "id": "6d767b8c-28c2-4a21-bc88-311455777099",
   "metadata": {},
   "source": [
    "There is no concept of access specifier in python....Everything is public..but \"__\" prefixing double underscore makes the variable private..And \"_\"prefixing single underscore makes the variable protected.."
   ]
  },
  {
   "cell_type": "markdown",
   "id": "1ef0f762-0a11-4d9c-a6fc-6b3c3a7a9d95",
   "metadata": {},
   "source": [
    "print(a.__dir__()) -> results:\n",
    "['name', '_Employee__id', '__module__', '__init__', '__dict__', '__weakref__', '__doc__', '__new__', '__repr__', '__hash__', '__str__', '__getattribute__', '__setattr__', '__delattr__', '__lt__', '__le__', '__eq__', '__ne__', '__gt__', '__ge__', '__reduce_ex__', '__reduce__', '__getstate__', '__subclasshook__', '__init_subclass__', '__format__', '__sizeof__', '__dir__', '__class__']"
   ]
  },
  {
   "cell_type": "code",
   "execution_count": null,
   "id": "538c468d-e827-4723-aa0e-f0d75ad65720",
   "metadata": {},
   "outputs": [],
   "source": [
    "class Employee:\n",
    "    def __init__ (self):\n",
    "        self.name = \"Dip\"\n",
    "        self.__id = 123\n",
    "        self._age = 21\n",
    "    def _team(self):\n",
    "        return \"Real Madrid\"\n",
    "class Fav(Employee):\n",
    "    pass\n",
    "\n",
    "obj = Employee()\n",
    "obj1 = Fav()\n",
    "\n",
    "print (obj._age)\n",
    "print(obj._team())\n",
    "\n",
    "print (obj1._age)\n",
    "print(obj1._team())\n",
    "\n",
    "a = Employee ()\n",
    "print (a.name) \n",
    "\n",
    "#print (a.__id)#can't be accessed directly \n",
    "print (a._Employee__id)#can be accessed indirectly by \"Name mangling \" \n",
    "#print(a.__dir__())"
   ]
  },
  {
   "cell_type": "code",
   "execution_count": null,
   "id": "f0f4267a-d834-41c7-96b2-c970d6e481ea",
   "metadata": {},
   "outputs": [],
   "source": [
    "class Math:\n",
    "    @staticmethod\n",
    "    def power(base, exponent):\n",
    "        result = 1\n",
    "        for _ in range(exponent):\n",
    "            result *= base\n",
    "        return result\n",
    "\n",
    "Math.power(5,2)"
   ]
  },
  {
   "cell_type": "markdown",
   "id": "76d9c654-f7ab-4b8d-9bdf-e0ca3fdcec20",
   "metadata": {},
   "source": [
    "operator overloading"
   ]
  },
  {
   "cell_type": "code",
   "execution_count": 6,
   "id": "752140fc-5175-4a47-90a4-2fc5558bc506",
   "metadata": {},
   "outputs": [
    {
     "name": "stdout",
     "output_type": "stream",
     "text": [
      "6j+10k+8l\n"
     ]
    }
   ],
   "source": [
    "class Vector:\n",
    "    def __init__(self, j , k ,l ):\n",
    "        self.j = j\n",
    "        self.k = k\n",
    "        self.l = l\n",
    "    def __str__(self):\n",
    "        return f\"{self.j}j+{self.k}k+{self.l}l\"\n",
    "    def __add__(self,x):\n",
    "        return f\"{self.j + x.j}j+{self.k + x.k}k+{self.l + x.l}l\"\n",
    "\n",
    "v1 = Vector(3, 5 ,4)\n",
    "v2 = Vector(3, 5 ,4)\n",
    "print (v1 + v2)\n",
    "        "
   ]
  },
  {
   "cell_type": "code",
   "execution_count": 11,
   "id": "880c9afe-fd1a-43b0-b4ef-65892c9281cf",
   "metadata": {},
   "outputs": [
    {
     "name": "stdout",
     "output_type": "stream",
     "text": [
      "Hello\n",
      "Sound \n"
     ]
    }
   ],
   "source": [
    "class Animal :\n",
    "    def __init__(self, name , species):\n",
    "        self.name = name\n",
    "        self.species = species\n",
    "        self.make_sound()\n",
    "    def make_sound (self):\n",
    "        print (\"Sound \")\n",
    "\n",
    "class cat(Animal):\n",
    "    def __init__ (self,name, breed ):\n",
    "        Animal.__init__(self,name,species = \"Cat\")\n",
    "        self.breed = breed\n",
    "    def make_sound (self):\n",
    "        print(\"Hello\")\n",
    "\n",
    "c = cat(\"D\",\"G\") \n",
    "a = Animal(\"Kutta\",\"G\")"
   ]
  },
  {
   "cell_type": "code",
   "execution_count": 4,
   "id": "6440d5c5-b8a8-4bdf-afa9-c782b401fbd9",
   "metadata": {},
   "outputs": [
    {
     "name": "stdout",
     "output_type": "stream",
     "text": [
      "Dip\n",
      "Satyajit\n",
      "[<class '__main__.WriterEmp'>, <class '__main__.Emp'>, <class '__main__.Writer'>, <class 'object'>]\n"
     ]
    }
   ],
   "source": [
    "class Emp:\n",
    "    def __init__(self,name):\n",
    "        self.name = name\n",
    "    \n",
    "\n",
    "class Writer :\n",
    "    def __init__(self,hobby):\n",
    "        self.hobby = hobby\n",
    "        \n",
    "class WriterEmp(Emp,Writer):\n",
    "    def __init__(self,name,hobby):\n",
    "        self.hobby = hobby\n",
    "        self.name = name\n",
    "o = WriterEmp(\"Dip\" , \"Satyajit\")\n",
    "print (o.name)\n",
    "print (o.hobby)\n",
    "print (WriterEmp.mro())"
   ]
  },
  {
   "cell_type": "code",
   "execution_count": 12,
   "id": "e56e4734-1e51-402a-87bc-5d4b6f963083",
   "metadata": {},
   "outputs": [
    {
     "name": "stdout",
     "output_type": "stream",
     "text": [
      "2024-05-04 13:32:49\n"
     ]
    }
   ],
   "source": [
    "import time\n",
    "t = time.localtime ()\n",
    "formatted_time = time.strftime(\"%Y-%m-%d %H:%M:%S\",t)\n",
    "print (formatted_time)"
   ]
  }
 ],
 "metadata": {
  "kernelspec": {
   "display_name": "Python 3 (ipykernel)",
   "language": "python",
   "name": "python3"
  },
  "language_info": {
   "codemirror_mode": {
    "name": "ipython",
    "version": 3
   },
   "file_extension": ".py",
   "mimetype": "text/x-python",
   "name": "python",
   "nbconvert_exporter": "python",
   "pygments_lexer": "ipython3",
   "version": "3.11.5"
  }
 },
 "nbformat": 4,
 "nbformat_minor": 5
}
