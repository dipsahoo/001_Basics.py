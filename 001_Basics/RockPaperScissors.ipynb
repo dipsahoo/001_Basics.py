{
 "cells": [
  {
   "cell_type": "code",
   "execution_count": 1,
   "id": "80771a0d-29c4-487d-bbf4-9404ada62201",
   "metadata": {},
   "outputs": [],
   "source": [
    "import sys\n",
    "import random"
   ]
  },
  {
   "cell_type": "code",
   "execution_count": 13,
   "id": "35619fad-fa30-4c57-8898-4916ce441d9e",
   "metadata": {},
   "outputs": [
    {
     "name": "stdout",
     "output_type": "stream",
     "text": [
      "Your choice : 1\n",
      "Computer choice : 3\n",
      "You win!\n"
     ]
    }
   ],
   "source": [
    "player_choice = input(\"Enter your choice: \\n\"\n",
    "                      \"1 for Rock \\n\"\n",
    "                      \"2 for Paper \\n\"\n",
    "                      \"3 for Scissors \\n\"\n",
    "                      \"Your choice: \")\n",
    "\n",
    "player = int (player_choice)\n",
    "\n",
    "computer_choice = random.choice([1,2,3])\n",
    "computer = int(computer_choice)\n",
    "\n",
    "print (f\"Your choice : {player_choice}\")\n",
    "print (f\"Computer choice : {computer_choice}\")\n",
    "\n",
    "if player == computer:\n",
    "    print(\"It's a draw!\")\n",
    "elif (player == 1 and computer == 3) or (player == 2 and computer == 1) or (player == 3 and computer == 2):\n",
    "    print(\"You win!\")\n",
    "else:\n",
    "    print(\"Computer wins!\")"
   ]
  },
  {
   "cell_type": "code",
   "execution_count": 10,
   "id": "4f3bc07f-5c07-4edf-99ec-c056a3b42eac",
   "metadata": {},
   "outputs": [
    {
     "name": "stdout",
     "output_type": "stream",
     "text": [
      "Your choice : Paper\n",
      "Computer choice : Scissors\n",
      "Computer wins!\n"
     ]
    }
   ],
   "source": [
    "\n",
    "\n",
    "class RockPaperScissors:\n",
    "    def __init__(self):\n",
    "        self.choices = {1: \"Rock\", 2: \"Paper\", 3: \"Scissors\"}\n",
    "    \n",
    "    def get_player_choice(self):\n",
    "        player_choice = input(\"Enter your choice: \\n\"\n",
    "                              \"1 for Rock \\n\"\n",
    "                              \"2 for Paper \\n\"\n",
    "                              \"3 for Scissors \\n\"\n",
    "                              \"Your choice: \")\n",
    "        return int(player_choice)\n",
    "    \n",
    "    def get_computer_choice(self):\n",
    "        return random.randint(1, 3)\n",
    "    \n",
    "    def print_choices(self, player, computer):\n",
    "        print(f\"Your choice : {self.choices[player]}\")\n",
    "        print(f\"Computer choice : {self.choices[computer]}\")\n",
    "    \n",
    "    def determine_winner(self, player, computer):\n",
    "        if player == computer:\n",
    "            print(\"It's a draw!\")\n",
    "        elif (player == 1 and computer == 3) or (player == 2 and computer == 1) or (player == 3 and computer == 2):\n",
    "            print(\"You win!\")\n",
    "        else:\n",
    "            print(\"Computer wins!\")\n",
    "    \n",
    "    def play(self):\n",
    "        player = self.get_player_choice()\n",
    "        computer = self.get_computer_choice()\n",
    "        self.print_choices(player, computer)\n",
    "        self.determine_winner(player, computer)\n",
    "\n",
    "game = RockPaperScissors()\n",
    "game.play()\n"
   ]
  },
  {
   "cell_type": "code",
   "execution_count": null,
   "id": "7029e766",
   "metadata": {},
   "outputs": [],
   "source": []
  }
 ],
 "metadata": {
  "kernelspec": {
   "display_name": "Python 3 (ipykernel)",
   "language": "python",
   "name": "python3"
  },
  "language_info": {
   "codemirror_mode": {
    "name": "ipython",
    "version": 3
   },
   "file_extension": ".py",
   "mimetype": "text/x-python",
   "name": "python",
   "nbconvert_exporter": "python",
   "pygments_lexer": "ipython3",
   "version": "3.11.7"
  }
 },
 "nbformat": 4,
 "nbformat_minor": 5
}
