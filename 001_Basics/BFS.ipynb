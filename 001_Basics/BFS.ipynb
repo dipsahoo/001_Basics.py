{
 "cells": [
  {
   "cell_type": "code",
   "execution_count": 1,
   "id": "1224fba5-9f5a-4cb6-b516-90fb23ce5c42",
   "metadata": {},
   "outputs": [],
   "source": [
    "from collections import deque"
   ]
  },
  {
   "cell_type": "code",
   "execution_count": 2,
   "id": "57a42144-20c2-4bdf-ac27-c433ed6120c1",
   "metadata": {},
   "outputs": [],
   "source": [
    "class Node:\n",
    "    def __init__ (self, in_param: int ):\n",
    "        self.info = in_param\n",
    "        self.children = []\n",
    "        "
   ]
  },
  {
   "cell_type": "code",
   "execution_count": 3,
   "id": "6e8caa25-ca8c-4c9b-aa38-dfb07cb8ff07",
   "metadata": {},
   "outputs": [],
   "source": [
    "def create_tree ()-> Node:\n",
    "    one = Node(1)\n",
    "    two = Node(2)\n",
    "    three = Node(3)\n",
    "    four = Node(4)\n",
    "    five = Node(5)\n",
    "    six = Node(6)\n",
    "    seven = Node(7)\n",
    "    eight = Node(8)\n",
    "    nine = Node(9)\n",
    "    ten = Node(10)\n",
    "    eleven = Node(11)\n",
    "    twelve = Node(12)\n",
    "    one.children.extend([two,three,four])\n",
    "    two.children.extend([five,six])\n",
    "    four.children.extend([seven,eight,nine])\n",
    "    eight.children.extend([ten,eleven,twelve])\n",
    "    return one"
   ]
  },
  {
   "cell_type": "code",
   "execution_count": 4,
   "id": "6f8a5104-3870-4217-b46a-085d5ea7a163",
   "metadata": {},
   "outputs": [],
   "source": [
    "def breadth_first_traversal(root:Node):\n",
    "    queue = deque([root])\n",
    "    while queue:\n",
    "        node = queue.popleft()\n",
    "        print (node.info)\n",
    "        queue.extend(node.children)\n",
    "def bfs(root: Node, key) -> bool:\n",
    "    queue = deque([root])\n",
    "    while queue:\n",
    "        node = queue.popleft()\n",
    "        print(node.info)\n",
    "        if node.info == key:\n",
    "            return True\n",
    "        queue.extend(node.children)\n",
    "    return False"
   ]
  },
  {
   "cell_type": "code",
   "execution_count": 7,
   "id": "d744e957-ff64-43be-8fde-4e9edc6e1a69",
   "metadata": {},
   "outputs": [
    {
     "name": "stdout",
     "output_type": "stream",
     "text": [
      "\n",
      "Breadth First Traversal:\n",
      "1\n",
      "2\n",
      "3\n",
      "4\n",
      "5\n",
      "6\n",
      "7\n",
      "8\n",
      "9\n",
      "10\n",
      "11\n",
      "12\n"
     ]
    }
   ],
   "source": [
    "root = create_tree()\n",
    "key = 15\n",
    "print(\"\\nBreadth First Traversal:\")\n",
    "breadth_first_traversal(root)\n"
   ]
  },
  {
   "cell_type": "code",
   "execution_count": 8,
   "id": "5bb387d8-628f-4303-b0f9-f23295e3de78",
   "metadata": {},
   "outputs": [
    {
     "name": "stdout",
     "output_type": "stream",
     "text": [
      "\n",
      "Breadth First Search:\n",
      "1\n",
      "2\n",
      "3\n",
      "4\n",
      "5\n",
      "6\n",
      "7\n",
      "8\n",
      "9\n",
      "10\n",
      "11\n",
      "12\n",
      "15 not found\n"
     ]
    }
   ],
   "source": [
    "print(\"\\nBreadth First Search:\")\n",
    "if bfs(root, key):\n",
    "    print(f\"{key} found\")\n",
    "else:\n",
    "    print(f\"{key} not found\")"
   ]
  },
  {
   "cell_type": "code",
   "execution_count": null,
   "id": "4358a8cd-a5b8-493f-82d1-3acef313530f",
   "metadata": {},
   "outputs": [],
   "source": []
  }
 ],
 "metadata": {
  "kernelspec": {
   "display_name": "Python 3 (ipykernel)",
   "language": "python",
   "name": "python3"
  },
  "language_info": {
   "codemirror_mode": {
    "name": "ipython",
    "version": 3
   },
   "file_extension": ".py",
   "mimetype": "text/x-python",
   "name": "python",
   "nbconvert_exporter": "python",
   "pygments_lexer": "ipython3",
   "version": "3.11.5"
  }
 },
 "nbformat": 4,
 "nbformat_minor": 5
}
